{
 "cells": [
  {
   "cell_type": "markdown",
   "metadata": {},
   "source": [
    "### 1 What does Pandas stand for?\n",
    "#### Pandas stands for either Panal Data or Python Data Analytics\n",
    "\n",
    "### 2 What are the 2 collections used in Pandas?\n",
    "#### Series and Dataframe\n",
    "\n",
    "### 3 Name 4 things Pandas can do for us.\n",
    "#### Pandas can manipulate, prepare, model, and analyze data\n",
    "\n",
    "### 4 To permanently sort a DataFrame, which keyword should one use with the df.sort() method?\n",
    "#### df.sort_values()\n",
    "\n",
    "### 5 What is a CSV?\n",
    "#### A .CSV is a file type has comma seperated values in it.\n",
    "\n",
    "### 6 When cleaning data what values do we not like in our data?\n",
    "#### We do not like Null or NaN values."
   ]
  },
  {
   "cell_type": "code",
   "execution_count": 17,
   "metadata": {},
   "outputs": [
    {
     "name": "stdout",
     "output_type": "stream",
     "text": [
      "[[[ 2  4]\n",
      "  [ 6  8]\n",
      "  [10 12]]\n",
      "\n",
      " [[ 1  3]\n",
      "  [ 5  7]\n",
      "  [ 9 11]]]\n",
      "(2, 3, 2)\n"
     ]
    }
   ],
   "source": [
    "## #7 Import NumPy, use one of the NumPy methods and create an array with a shape of (2, 3, 2). You can use the reshape method -- .reshape()\n",
    "\n",
    "\n",
    "import numpy as np\n",
    "\n",
    "array1 = np.array([[2,4,],[6,8],[10,12],[1,3],[5,7],[9,11]])\n",
    "RSarray1 = array1.reshape(2,3,2)\n",
    "print(np.shape(RSarray1))"
   ]
  },
  {
   "cell_type": "code",
   "execution_count": 20,
   "metadata": {},
   "outputs": [
    {
     "name": "stdout",
     "output_type": "stream",
     "text": [
      "[ 0.  4.  8. 12. 16. 20.]\n"
     ]
    }
   ],
   "source": [
    "## #8 Use NumPy .linspace() to create an array with 6 linearly spaced values between 0 and 20\n",
    "array2 = np.linspace(0,20, 6)\n",
    "print(array2)"
   ]
  },
  {
   "cell_type": "code",
   "execution_count": 25,
   "metadata": {},
   "outputs": [
    {
     "name": "stdout",
     "output_type": "stream",
     "text": [
      "[ 0.  4.  8. 12. 16. 20.]\n"
     ]
    }
   ],
   "source": [
    "## #9 Make a Deep Copy of the above array\n",
    "import copy\n",
    "array2C1 = copy.deepcopy(array2)\n",
    "print(array2C1)\n"
   ]
  },
  {
   "cell_type": "code",
   "execution_count": 31,
   "metadata": {},
   "outputs": [
    {
     "name": "stdout",
     "output_type": "stream",
     "text": [
      "[[25 16]\n",
      " [11  2]\n",
      " [13  4]\n",
      " [ 7 81]\n",
      " [ 5  6]\n",
      " [11 12]]\n"
     ]
    }
   ],
   "source": [
    "## #10 Concatenate these 3 arrays into a new array named 'newArray'...\n",
    "array3 = ([[25, 16]])\n",
    "array4 = ([[11, 2], [13, 4]])\n",
    "array5 = ([[7, 81], [5, 6], [11, 12]])\n",
    "\n",
    "newArray = np.concatenate((array3, array4, array5), 0)\n",
    "print(newArray)"
   ]
  },
  {
   "cell_type": "code",
   "execution_count": 32,
   "metadata": {},
   "outputs": [
    {
     "name": "stdout",
     "output_type": "stream",
     "text": [
      "[[16 25]\n",
      " [ 2 11]\n",
      " [ 4 13]\n",
      " [ 7 81]\n",
      " [ 5  6]\n",
      " [11 12]]\n"
     ]
    }
   ],
   "source": [
    "## #11 Sort 'newArray' in order into 'sortedArray'\n",
    "sortedArray = np.sort(newArray)\n",
    "print(sortedArray)"
   ]
  },
  {
   "cell_type": "code",
   "execution_count": 35,
   "metadata": {},
   "outputs": [
    {
     "name": "stdout",
     "output_type": "stream",
     "text": [
      "(2, 6, 10)\n",
      "(4, 8, 12)\n",
      "(1, 5, 9)\n",
      "(3, 7, 11)\n"
     ]
    }
   ],
   "source": [
    "## #12 Unpack the array tuples from the above 'reshapedArray' into 4 well named variables. Print the 4 variables.\n",
    "[[[ a,  b],[ c , d],[e ,f]],[[ g,  h],[ i,  j],[ k, l]]] = RSarray1\n",
    "upv1 = a,c,e\n",
    "upv2 = b,d,f\n",
    "upv3 = g,i,k\n",
    "upv4 = h,j,l\n",
    "print(upv1)\n",
    "print(upv2)\n",
    "print(upv3)\n",
    "print(upv4)"
   ]
  },
  {
   "cell_type": "code",
   "execution_count": 36,
   "metadata": {},
   "outputs": [
    {
     "name": "stdout",
     "output_type": "stream",
     "text": [
      "[ 0  1  2  3  4  5  6  7 10 11 12 13 14 15 16 17 20 21 22 23 24 25 26 27]\n"
     ]
    }
   ],
   "source": [
    "## #13 Combined and sort the following arrays into one called 'comboArray' ...\n",
    "one = ([10, 11, 12, 13, 14, 15, 16, 17])\n",
    "two = ([20, 21, 22, 23, 24, 25, 26, 27])\n",
    "three = ([ 0, 1, 2, 3, 4, 5, 6, 7])\n",
    "\n",
    "newArray2 = np.concatenate((one, two, three), 0)\n",
    "comboArray = np.sort(newArray2)\n",
    "print(comboArray)"
   ]
  },
  {
   "cell_type": "code",
   "execution_count": 69,
   "metadata": {},
   "outputs": [
    {
     "name": "stdout",
     "output_type": "stream",
     "text": [
      "1\n",
      "[ 2  3  4  5  6  7 10 11 12 13 14 15 16 17 20 21 22 23 24 25 26 27]\n",
      "[ 3  4  5  6  7 10 11 12 13 14]\n",
      "[22 23 24 25 26 27]\n",
      "[ 0  1  2  3  4  5  6  7 10 11 12 13 14 15]\n",
      "[20 22 24 26]\n",
      "[ 0  5 12 17 24]\n"
     ]
    }
   ],
   "source": [
    "## 14 Take 'comboArray' and perform the following slicing activities:\n",
    "\n",
    "## print sec1 - the 2nd element\n",
    "## print sec2 - all elements from the 3rd element to the last\n",
    "## print sec3 - all elements from the 4th to the 14th elements\n",
    "## print sec4 - the last 6 elements\n",
    "## print sec5 - all element from #0 up to and including #15, using the negative number method, i.e. taking a section from the end.\n",
    "## print sec6 - from #20 every even element to the end\n",
    "## print sec7 - from the last element moving forward, every 5th element.\n",
    "\n",
    "print(comboArray[1])\n",
    "print(comboArray[2:])\n",
    "print(comboArray[3:13])\n",
    "print(comboArray[-6:])\n",
    "print(comboArray[-28:-10])\n",
    "print(comboArray[16::2])\n",
    "print(comboArray[-28::5])"
   ]
  },
  {
   "cell_type": "code",
   "execution_count": 75,
   "metadata": {},
   "outputs": [
    {
     "name": "stdout",
     "output_type": "stream",
     "text": [
      "  Ingredients  Quantity   Unit\n",
      "0       Flour         4   cups\n",
      "1        Milk         1    cup\n",
      "2        Eggs         2  large\n",
      "3        Spam         1    can\n"
     ]
    }
   ],
   "source": [
    "## #15 Using Series, create a DataFrame that looks like this:\n",
    "import pandas as pd\n",
    "\n",
    "Ingredients = pd.Series([\"Flour\", \"Milk\", \"Eggs\", \"Spam\"], name = \"Ingredients\")\n",
    "Quantity = pd.Series([4,1,2,1], name = \"Quantity\")\n",
    "Unit = pd.Series([\"cups\", \"cup\", \"large\", \"can\"], name = \"Unit\")\n",
    "\n",
    "df1 = pd.concat([Ingredients, Quantity, Unit], axis=1)\n",
    "print(df1)"
   ]
  },
  {
   "cell_type": "code",
   "execution_count": 76,
   "metadata": {},
   "outputs": [
    {
     "name": "stdout",
     "output_type": "stream",
     "text": [
      "      Name  Height Qualification  address  Age        Pets           sport\n",
      "0      Jai     5.1           Msc    Delhi   21         Dog           Darts\n",
      "1  janusha     6.2            MA     Doha   23       Bunny      Basketball\n",
      "2   Gaurav     5.1           Msc  Chennai   24  Chinchilla  PaddleBoarding\n",
      "3     Anuj     5.2           Msc   Dakhar   21      Parrot         Cricket\n"
     ]
    }
   ],
   "source": [
    "## #16 Take this data and create a DataFrame named studentData\n",
    "SD1 = {'Name': ['Jai', 'janusha', 'Gaurav', 'Anuj'],\n",
    "        'Height': [5.1, 6.2, 5.1, 5.2],\n",
    "        'Qualification': ['Msc', 'MA', 'Msc', 'Msc'],\n",
    "        'address': ['Delhi', 'Doha', 'Chennai', 'Dakhar'],\n",
    "        'Age': [21, 23, 24, 21],\n",
    "        'Pets': ['Dog', 'Bunny', 'Chinchilla', 'Parrot'],\n",
    "        'sport': ['Darts', 'Basketball', 'PaddleBoarding', 'Cricket']\n",
    "    }\n",
    "\n",
    "studentData = pd.DataFrame(SD1)\n",
    "print(studentData)"
   ]
  },
  {
   "cell_type": "code",
   "execution_count": 80,
   "metadata": {},
   "outputs": [
    {
     "name": "stdout",
     "output_type": "stream",
     "text": [
      "      Name  Height Qualification  address  Age        Pets           sport  \\\n",
      "0      Jai     5.1           Msc    Delhi   21         Dog           Darts   \n",
      "1  janusha     6.2            MA     Doha   23       Bunny      Basketball   \n",
      "2   Gaurav     5.1           Msc  Chennai   24  Chinchilla  PaddleBoarding   \n",
      "3     Anuj     5.2           Msc   Dakhar   21      Parrot         Cricket   \n",
      "\n",
      "       Desserts  \n",
      "0     ice cream  \n",
      "1  Cashew Fudge  \n",
      "2       waffels  \n",
      "3  Carrot Halwa  \n"
     ]
    }
   ],
   "source": [
    "## #17 Add a new column to the DataFrame with the following deserts: [\"ice cream\", \"Cashew Fudge\", \"waffels\", \"Carrot Halwa\"]\n",
    "desserts1 = [\"ice cream\", \"Cashew Fudge\", \"waffels\", \"Carrot Halwa\"]\n",
    "studentData= studentData.assign(Desserts = desserts1)\n",
    "\n",
    "print(studentData)\n"
   ]
  },
  {
   "cell_type": "code",
   "execution_count": 83,
   "metadata": {},
   "outputs": [
    {
     "name": "stdout",
     "output_type": "stream",
     "text": [
      "      Name  Height Qualification  address  Age        Pets           sport  \\\n",
      "3     Anuj     5.2           Msc   Dakhar   21      Parrot         Cricket   \n",
      "2   Gaurav     5.1           Msc  Chennai   24  Chinchilla  PaddleBoarding   \n",
      "0      Jai     5.1           Msc    Delhi   21         Dog           Darts   \n",
      "1  janusha     6.2            MA     Doha   23       Bunny      Basketball   \n",
      "\n",
      "       Desserts  \n",
      "3  Carrot Halwa  \n",
      "2       waffels  \n",
      "0     ice cream  \n",
      "1  Cashew Fudge  \n"
     ]
    }
   ],
   "source": [
    "## #18 Sort the 'studentData' DataFrame in Ascending order -- Sorting by column 'Name' and then \"address\"\n",
    "studentData.sort_values(by = [\"Name\",\"address\"], inplace=True, ascending=True)\n",
    "print(studentData)"
   ]
  },
  {
   "cell_type": "code",
   "execution_count": 84,
   "metadata": {},
   "outputs": [],
   "source": [
    "## #19 Save this DataFrame here below to disc as a .CSV file with the name cows_and_goats.csv:\n",
    "\n",
    "df = pd.DataFrame({'Cows': [12, 20], 'Goats': [22, 19]}, index=['Year 1', 'Year 2'])\n",
    "df.to_csv(\"cows_and_goats.csv\")"
   ]
  },
  {
   "cell_type": "code",
   "execution_count": 90,
   "metadata": {},
   "outputs": [
    {
     "name": "stdout",
     "output_type": "stream",
     "text": [
      "      Name  Size   Color  Growth_Speed Taste_Rating\n",
      "0   Celery     2   green             4       bitter\n",
      "1  Carrots     2  orange             2        sweet\n",
      "2   Onions     1  yellow             2         sour\n",
      "3   Squash     3  yellow             1       mellow\n",
      "4  Cabbage     4   green             2         sour\n"
     ]
    }
   ],
   "source": [
    "## #20 (A) Using Pandas, make your own .CSV file with data on vegetables and save it. (B) Using Pandas, make a change to your CSV file, and save a copy with a different name.\n",
    "\n",
    "VeggieInfo = {'Name': ['Celery', 'Carrots', 'Onions', 'Squash', 'Cabbage'],\n",
    "        'Size': [2, 2, 1, 3, 4],\n",
    "        'Color': ['green', 'orange', 'yellow', 'yellow', 'green'],\n",
    "        'Growth_Speed': [4, 2, 2, 1, 2],\n",
    "       }\n",
    "Vegetables = pd.DataFrame(VeggieInfo)\n",
    "Vegetables.to_csv(\"VeggieTable\")\n",
    "\n",
    "tasteRating = [\"bitter\", \"sweet\", \"sour\", \"mellow\", \"sour\"]\n",
    "Vegetables = Vegetables.assign(Taste_Rating = tasteRating)\n",
    "print(Vegetables)\n",
    "\n",
    "Vegetables.to_csv(\"NewVeggieTable\")"
   ]
  }
 ],
 "metadata": {
  "kernelspec": {
   "display_name": "Python 3",
   "language": "python",
   "name": "python3"
  },
  "language_info": {
   "codemirror_mode": {
    "name": "ipython",
    "version": 3
   },
   "file_extension": ".py",
   "mimetype": "text/x-python",
   "name": "python",
   "nbconvert_exporter": "python",
   "pygments_lexer": "ipython3",
   "version": "3.12.3"
  }
 },
 "nbformat": 4,
 "nbformat_minor": 2
}

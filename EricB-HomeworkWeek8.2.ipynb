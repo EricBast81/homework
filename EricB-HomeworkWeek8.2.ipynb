{
 "cells": [
  {
   "cell_type": "markdown",
   "metadata": {},
   "source": [
    "# SQL Data Cleaning Lab\n",
    "# Section 1\n",
    "SELECT \n",
    "\tAccel, TRIM(Accel, ' sec') AS Accel_In_Seconds\t\n",
    "FROM evCars"
   ]
  },
  {
   "cell_type": "markdown",
   "metadata": {},
   "source": [
    "# Section 1.4\n",
    "UPDATE evCars\n",
    "SET Accel = TRIM(Accel, ' sec')"
   ]
  },
  {
   "cell_type": "markdown",
   "metadata": {},
   "source": [
    "# Section 1.5\n",
    "SELECT Accel\n",
    "FROM evCars"
   ]
  },
  {
   "cell_type": "markdown",
   "metadata": {},
   "source": [
    "# Section 1.6\n",
    "ALTER TABLE evCars\n",
    "RENAME Accel TO AccelSec"
   ]
  },
  {
   "cell_type": "markdown",
   "metadata": {},
   "source": [
    "# Section 2.1\n",
    "SELECT \n",
    "\tTopSpeed\n",
    "FROM evCars"
   ]
  },
  {
   "cell_type": "markdown",
   "metadata": {},
   "source": [
    "# Section 2.2\n",
    "SELECT \n",
    "\tTopSpeed, TRIM(TopSpeed, ' km/h') AS TopSpeed_km/h\n",
    "FROM evCar"
   ]
  },
  {
   "cell_type": "markdown",
   "metadata": {},
   "source": [
    "# Section 2.4\n",
    "UPDATE evCars\n",
    "SET TopSpeed = TRIM(TopSpeed, ' km/h')"
   ]
  },
  {
   "cell_type": "markdown",
   "metadata": {},
   "source": [
    "# Section 2.6\n",
    "SELECT\t\n",
    "\tTopSpeed, \n",
    "\tROUND(TopSpeed * 0.621371, 2) AS TopSpeedMPH\n",
    "FROM evCars"
   ]
  },
  {
   "cell_type": "markdown",
   "metadata": {},
   "source": [
    "# Section 2.6.1\n",
    "UPDATE evCars\n",
    "SET TopSpeed = ROUND(TopSpeed * 0.621371, 2)"
   ]
  },
  {
   "cell_type": "markdown",
   "metadata": {},
   "source": [
    "# Section 2.7\n",
    "ALTER TABLE evCars\n",
    "RENAME TopSpeed to topSpeedMPH"
   ]
  },
  {
   "cell_type": "markdown",
   "metadata": {},
   "source": [
    "# Section 2.8\n",
    "Select *\n",
    "FROM evCars"
   ]
  },
  {
   "cell_type": "markdown",
   "metadata": {},
   "source": [
    "# Section 3.1\n",
    "SELECT evRange\n",
    "FROM evCars"
   ]
  },
  {
   "cell_type": "markdown",
   "metadata": {},
   "source": [
    "# Section 3.2\n",
    "SELECT \n",
    "\tTRIM(evRange, ' km')\n",
    "FROM evCars"
   ]
  },
  {
   "cell_type": "markdown",
   "metadata": {},
   "source": [
    "# Section 3.3\n",
    "SELECT \n",
    "\tevRange,\n",
    "\tTRIM(evRange, ' km')\n",
    "FROM evCars"
   ]
  },
  {
   "cell_type": "markdown",
   "metadata": {},
   "source": [
    "# Section 3.4\n",
    "UPDATE evCars\n",
    "SET evRange = TRIM(evRange, ' km')"
   ]
  },
  {
   "cell_type": "markdown",
   "metadata": {},
   "source": [
    "# Section 3.5\n",
    "Select *\n",
    "FROM evCars"
   ]
  },
  {
   "cell_type": "markdown",
   "metadata": {},
   "source": [
    "# Section 3.6\n",
    "Select \n",
    "evRange, \n",
    "ROUND(evRange * 0.621371, 2) AS RangeMiles\n",
    "FROM evCars"
   ]
  },
  {
   "cell_type": "markdown",
   "metadata": {},
   "source": [
    "# Section 3.6.1\n",
    "UPDATE evCars\n",
    "SET evRange = ROUND(evRange / 0.621371, 2)"
   ]
  },
  {
   "cell_type": "markdown",
   "metadata": {},
   "source": [
    "# Section 3.7\n",
    "ALTER TABLE evCars\n",
    "RENAME evRange to rangeMiles"
   ]
  },
  {
   "cell_type": "markdown",
   "metadata": {},
   "source": [
    "# Section 3.8\n",
    "Select *\n",
    "FROM evCars"
   ]
  },
  {
   "cell_type": "markdown",
   "metadata": {},
   "source": [
    "# Section 4.1\n",
    "SELECT Efficiency, FastCharge\n",
    "FROM evCars"
   ]
  },
  {
   "cell_type": "markdown",
   "metadata": {},
   "source": [
    "# Section 4.3\n",
    "SELECT \n",
    "\tTRIM(Efficiency, 'Wh/km'), \n",
    "\tTRIM(FastCharge, ' km/h')\n",
    "FROM evCars"
   ]
  },
  {
   "cell_type": "markdown",
   "metadata": {},
   "source": [
    "# Section 4.4\n",
    "UPDATE evCars\n",
    "SET Efficiency = TRIM(Efficiency, 'Wh/km'), \n",
    "\tFastCharge = TRIM(FastCharge, ' km/h')"
   ]
  },
  {
   "cell_type": "markdown",
   "metadata": {},
   "source": [
    "# Section 4.5\n",
    "SELECT Efficiency, FastCharge\n",
    "FROM evCars"
   ]
  },
  {
   "cell_type": "markdown",
   "metadata": {},
   "source": [
    "# Section 4.6\n",
    "UPDATE evCars\n",
    "SET FastCharge = ROUND(FastCharge / 0.621371, 1)"
   ]
  },
  {
   "cell_type": "markdown",
   "metadata": {},
   "source": [
    "# Section 4.7\n",
    "ALTER TABLE evCars\n",
    "RENAME FastCharge to OneHourFastChargeMiles;\n",
    "\n",
    "ALTER TABLE\n",
    "RENAME efficiency to efficiencyWHperKM"
   ]
  },
  {
   "cell_type": "markdown",
   "metadata": {},
   "source": [
    "# Section 4.8\n",
    "SELECT *\n",
    "FROM evCars"
   ]
  },
  {
   "cell_type": "markdown",
   "metadata": {},
   "source": [
    "# Section 5.1\n",
    "SELECT\n",
    "\tRapidCharge,\n",
    "\tCOUNT(RapidCharge)\n",
    "FROM evCars\n",
    "GROUP BY RapidCharge"
   ]
  },
  {
   "cell_type": "markdown",
   "metadata": {},
   "source": [
    "# Section 5.3\n",
    "# For the purpose of this exercise, if the car's RapidCharge value equals \"rapid charging possible\" then I want you to change the value to 'Yes'\n",
    "# If the RapidCharge value equals \"rapid charging not possible\"\" then I want you to change the value to 'No'.\n"
   ]
  },
  {
   "cell_type": "markdown",
   "metadata": {},
   "source": [
    "# Section 5.2\n",
    "UPDATE evCars\n",
    "SET RapidCharge = 'Yes'\n",
    "Where RapidCharge IS 'Rapid charging possible'\n",
    "\n",
    "UPDATE evCars\n",
    "SET RapidCharge = 'No'\n",
    "Where RapidCharge IS 'Rapid charging not possible'"
   ]
  },
  {
   "cell_type": "markdown",
   "metadata": {},
   "source": [
    "# Section 6.1\n",
    "SELECT PowerTrain, COUNT(PowerTrain)\n",
    "FROM evCars\n",
    "GROUP BY PowerTrain"
   ]
  },
  {
   "cell_type": "markdown",
   "metadata": {},
   "source": [
    "# Section 6.2\n",
    "# look at the three DISTINCT values from the query you wrote in 6.1 and fill in the blanks.\n",
    "# If the PowerTrain equals \"All Wheel Drive\" then I want you to change the value to 'AWD'\n",
    "# If the PowerTrain equals \"Rear Wheel Drive\" then I want you to change the value to 'RWD'\n",
    "# If the PowerTrain equals \"Front Wheel Drive\" then I want you to change the value to 'FWD'"
   ]
  },
  {
   "cell_type": "markdown",
   "metadata": {},
   "source": [
    "# Section 6.3\n",
    "UPDATE evCars\n",
    "SET PowerTrain = 'AWD'\n",
    "Where PowerTrain is 'All Wheel Drive'\n",
    "\n",
    "UPDATE evCars\n",
    "SET PowerTrain = 'RWD'\n",
    "Where PowerTrain is 'Rear Wheel Drive'\n",
    "\n",
    "UPDATE evCars\n",
    "SET PowerTrain = 'FWD'\n",
    "Where PowerTrain is 'Front Wheel Drive'"
   ]
  },
  {
   "cell_type": "markdown",
   "metadata": {},
   "source": [
    "# Section 6.4\n",
    "SELECT *\n",
    "FROM evCars"
   ]
  },
  {
   "cell_type": "markdown",
   "metadata": {},
   "source": [
    "# Section 7.1\n",
    "SELECT PriceEuro, ROUND(PriceEuro * 1.09,2) AS PriceUSD\n",
    "FROM evCars"
   ]
  },
  {
   "cell_type": "markdown",
   "metadata": {},
   "source": [
    "# Section 7.2 \n",
    "UPDATE evCars\n",
    "SET PriceEuro = ROUND(PriceEuro * 1.09,2)"
   ]
  },
  {
   "cell_type": "markdown",
   "metadata": {},
   "source": [
    "# Section 7.3\n",
    "ALTER TABLE evCars\n",
    "RENAME PriceEuro to PriceUSD;"
   ]
  }
 ],
 "metadata": {
  "kernelspec": {
   "display_name": "Python 3",
   "language": "python",
   "name": "python3"
  },
  "language_info": {
   "name": "python",
   "version": "3.12.3"
  }
 },
 "nbformat": 4,
 "nbformat_minor": 2
}

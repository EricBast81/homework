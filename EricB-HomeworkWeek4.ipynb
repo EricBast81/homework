{
 "cells": [
  {
   "cell_type": "markdown",
   "metadata": {},
   "source": [
    "# Homework for Week 4- Eric Bast\n",
    "\n",
    "## 1. What does one need to do to use a module?\n",
    "To use a module you will need to install first with the install \" \" command.\n",
    "\n",
    "## 2. Name a Module (not the DateTime Nodule) we looked at and write a line or 2 of code as an example using this module.\n",
    "Random\n",
    "import random\n",
    "RandNum = random.randrange(1,1000)\n",
    "print(RandNum)\n",
    "\n",
    "## 3. What is the benefit of using Exception Handling\n",
    "Using exception handling allows you to run a debugging like function to make sure your code is doing what you want it to.\n",
    "\n",
    "## 4. What are 4 components used for Python Exception Handling?\n",
    "Try, except, else, finally\n",
    "\n",
    "## 5. Numoy arrays are like what Pythin data type?\n",
    "Lists\n",
    "\n",
    "## 6. What is one of the main benefits of using NumPy arrays?\n",
    "Numpy arrays use less memory.\n",
    "\n",
    "## 7. What is one of the main requirements about the 'dtype' of NumPy arrays?\n",
    "They must all be the same data type.\n",
    "\n",
    "## 8. Of the 10 uses of NumPy, name 2.\n",
    "Arithmetic Operations, Searcing, sorting, and counting\n",
    "\n",
    "## 9. Name one of the other libraries we'll be using with NumPy.\n",
    "Pandas\n",
    "\n",
    "## 10. What is the shape of NumPy arrays?\n",
    "Shape describes the array based on dimension, length, and size such as (2,3,4)\n",
    "\n",
    "## 11. What is a Tensor?\n",
    "A tensor is an array with more than 3 dimensions.\n",
    "\n",
    "## 12. Name a reason why it's better using NumPy for Data Analysis that using a Python List.\n",
    "NumPy arrays are faster for processing so if you have a very large dataset you can cut down on time for something like sorting by a significant amount. This is due to the single data type found in NumPy.\n",
    "\n",
    "## 13. When creating an empty array, where do the elements come from?\n",
    "The elements come from whatever is in the memory allocated to the array."
   ]
  },
  {
   "cell_type": "code",
   "execution_count": null,
   "metadata": {},
   "outputs": [],
   "source": [
    "## Flow Control Methods #1\n",
    "## Create an if statement: if 'age' is greater than or equal to 25, print \"Renting a car is more affordable\", however if 'age' is less than 25, print \"Renting a car is very expensive.\"\n",
    "\n",
    "age = int(input())\n",
    "print(\"You have entered\", age)\n",
    "\n",
    "if age >= 25: \n",
    "    print(\"Renting a car is more affordable\")\n",
    "else:\n",
    "    print(\"Renting a car is very expensive\")"
   ]
  },
  {
   "cell_type": "code",
   "execution_count": null,
   "metadata": {},
   "outputs": [],
   "source": [
    "## Flow Control Methods #2\n",
    "##Create and chain an if-else statement: if 'age' is greater than or equal to 25, print \"Renting a car is more affordable.\" \n",
    "##If 'age' is less than 25 but greater than or equal to 18, print \"Renting a car is very expensive.\" Finally, if age is less than 18, print \"You cannot legally rent a car.\"\n",
    "\n",
    "age = int(input())\n",
    "print(\"You have entered\", age)\n",
    "\n",
    "if age >= 25: \n",
    "    print(\"Renting a car is more affordable\")\n",
    "elif age < 24 and  age > 17:\n",
    "    print(\"Renting a car is very expensive\")\n",
    "else:\n",
    "    print(\"You cannot legally rent a car\")"
   ]
  },
  {
   "cell_type": "code",
   "execution_count": null,
   "metadata": {},
   "outputs": [],
   "source": [
    "## Flow Control Methods #3\n",
    "## Loop over the following string to (1) count all the characters in the string and (2) print out all the vowels -- \"The quick brown fox jumps over the lazy dog\"\n",
    "\n",
    "str1 = \"The quick brown fox jumps over the lazy dog\"\n",
    "i = 0\n",
    "vowels = \"aeiou\"\n",
    "output = str()\n",
    "\n",
    "for char in str1:\n",
    "    if char in vowels:\n",
    "        output = output + char\n",
    "    else:\n",
    "        pass\n",
    "    i = i + 1 \n",
    "print(\"The count of characters is\", i)    \n",
    "print(output)\n"
   ]
  },
  {
   "cell_type": "code",
   "execution_count": null,
   "metadata": {},
   "outputs": [],
   "source": [
    "## Flow Control Methods #4\n",
    "## Write a nested loop that prints out every piece of clothing from the couture list, in every fashionable color from the panettone set:\n",
    "## couture = [\"trousers\", \"blouse\", \"bandana\", \"cumber band\", \"blazer\", \"vest\", \"french beret\", \"scarf\", \"stole\"] and panettone = {\"cerise\",\n",
    "## \"fuchsia\", \"aqua\", \"maple\", \"auburn\", \"burnt sienna\", \"gunmetal blue\", \"Dark Sapphire\"}\n",
    "\n",
    "couture = [\"tousers\", \"blouse\", \"bandana\", \"cumber band\", \"blazer\", \"vest\", \"french beret\", \"scarf\", \"stole\"]\n",
    "panettone = {\"cerise\", \"fuchsia\", \"aqua\", \"maple\", \"auburn\", \"burnt sienna\", \"gunmetal blue\", \"Dark Sapphire\"}\n",
    "iter = 0\n",
    "for string1 in couture:\n",
    "    for string2 in panettone:\n",
    "        print(string2 + \" \" +string1) \n",
    "        iter = iter +1"
   ]
  },
  {
   "cell_type": "code",
   "execution_count": null,
   "metadata": {},
   "outputs": [],
   "source": [
    "## Flow Control Methods #5\n",
    "## Use range as a loop to calculate the sum of all the numbers from 1 to 100\n",
    "count = 0\n",
    "for i in range(1,101):\n",
    "    count = i + count\n",
    "print(count)"
   ]
  },
  {
   "cell_type": "code",
   "execution_count": null,
   "metadata": {},
   "outputs": [],
   "source": [
    "## Flow Control Method #6\n",
    "## Print the second item in this fruits list. [\"apple\", \"banana\", \"cherry\"]\n",
    "fruits_list = [\"apple\", \"banana\", \"cherry\"]\n",
    "print(fruits_list[1])"
   ]
  },
  {
   "cell_type": "code",
   "execution_count": 39,
   "metadata": {},
   "outputs": [
    {
     "name": "stdout",
     "output_type": "stream",
     "text": [
      "['kiwi', 'banana', 'cherry']\n"
     ]
    }
   ],
   "source": [
    "## Flow Control Method #7\n",
    "## Change the value from \"apple\" to \"kiwi\", in the fruits list. [\"apple\", \"banana\", \"cherry\"]\n",
    "\n",
    "fruits = [\"apple\", \"banana\", \"cherry\"]\n",
    "fruits[0] = \"kiwi\"\n",
    "print(fruits)"
   ]
  },
  {
   "cell_type": "code",
   "execution_count": null,
   "metadata": {},
   "outputs": [],
   "source": [
    "## Flow Control Method #8\n",
    "## Use the append method to add \"orange\" to the fruits list. [\"apple\", \"banana\", \"cherry\"]\n",
    "\n",
    "fruits2 = [\"apple\", \"banana\", \"cherry\"]\n",
    "fruits2.append(\"orange\")\n",
    "print(fruits2)"
   ]
  },
  {
   "cell_type": "code",
   "execution_count": null,
   "metadata": {},
   "outputs": [],
   "source": [
    "## Flow Control Method #9\n",
    "## Use the insert method to add \"lemon\" as the second item in the fruits list. [\"apple\", \"banana\", \"cherry\"]\n",
    "\n",
    "fruits3 = [\"apple\", \"banana\", \"cherry\"]\n",
    "fruits3.insert(1, \"lemon\")\n",
    "print(fruits3)"
   ]
  },
  {
   "cell_type": "code",
   "execution_count": null,
   "metadata": {},
   "outputs": [],
   "source": [
    "## Flow Control Method #10\n",
    "## Use the remove method to remove \"banana\" from the fruits list. [\"apple\", \"banana\", \"cherry\"]\n",
    "\n",
    "fruits4 = [\"apple\", \"banana\", \"cherry\"]\n",
    "fruits4.remove(\"banana\")\n",
    "print(fruits4)"
   ]
  },
  {
   "cell_type": "code",
   "execution_count": null,
   "metadata": {},
   "outputs": [],
   "source": [
    "## Flow Control Method #11\n",
    "## Use negative indexing to print the 3rd and 2nd to last items in the list. [\"apple\", \"banana\", \"cherry\", \"orange\", \"kiwi\", \"melon\", \"mango\"]\n",
    "\n",
    "fruits5 = [\"apple\", \"banana\", \"cherry\", \"orange\", \"kiwi\", \"melon\", \"mango\"]\n",
    "print(fruits5[-3])\n",
    "print(fruits5[-2])"
   ]
  },
  {
   "cell_type": "code",
   "execution_count": null,
   "metadata": {},
   "outputs": [],
   "source": [
    "## Flow Control Method #12\n",
    "## Use a range of indexes to print the third, fourth, and fifth item in the list. [\"apple\", \"banana\", \"cherry\", \"orange\", \"kiwi\", \"melon\", \"mango\"]\n",
    "\n",
    "fruits6 = [\"apple\", \"banana\", \"cherry\", \"orange\", \"kiwi\", \"melon\", \"mango\"]\n",
    "for i in range(2, 5):\n",
    "    print(fruits6[i])\n"
   ]
  },
  {
   "cell_type": "code",
   "execution_count": null,
   "metadata": {},
   "outputs": [],
   "source": [
    "## Flow Control Method #13\n",
    "## Use the correct syntax to print the number of items in the list. [\"apple\", \"banana\", \"cherry\", \"orange\", \"kiwi\", \"melon\", \"mango\"]\n",
    "\n",
    "fruits7 = [\"apple\", \"banana\", \"cherry\", \"orange\", \"kiwi\", \"melon\", \"mango\"]\n",
    "print(\"The number of items in the list is\", len(fruits7))"
   ]
  },
  {
   "cell_type": "code",
   "execution_count": null,
   "metadata": {},
   "outputs": [],
   "source": [
    "## Flow Control Method #14\n",
    "## Use the correct syntax to sort this list in reverse order [\"apple\", \"banana\", \"cherry\", \"orange\", \"kiwi\", \"melon\", \"mango\"]\n",
    "\n",
    "fruits8 = [\"apple\", \"banana\", \"cherry\", \"orange\", \"kiwi\", \"melon\", \"mango\"]\n",
    "fruits8.sort(reverse = True)\n",
    "print(fruits8)"
   ]
  },
  {
   "cell_type": "code",
   "execution_count": null,
   "metadata": {},
   "outputs": [],
   "source": [
    "## Flow Control Method #15\n",
    "from datetime import datetime\n",
    "current_time = datetime.now()\n",
    "current_month = current_time.strftime(\"%B\")\n",
    "print(current_month)\n"
   ]
  },
  {
   "cell_type": "code",
   "execution_count": null,
   "metadata": {},
   "outputs": [],
   "source": [
    "## Flow Control Method #16\n",
    "## Write a simple function that takes 2 parameters -- a first name and a day name.\n",
    "\n",
    "def function1(first_name, day_name = \"Sunday\"):\n",
    "    print(\"Hello\", first_name, \"! Happy\", day_name, \"!\")\n",
    "\n",
    "function1(\"Eric\", \"Birthday\")    \n",
    "function1(\"Eric\")"
   ]
  },
  {
   "cell_type": "code",
   "execution_count": null,
   "metadata": {},
   "outputs": [],
   "source": [
    "## Flow Control Method #17\n",
    "## Write a block of code to handle one of the most common Python exception errors. Select one of the common errors from the curriculum\n",
    "## section on Python Exception handling. Have your code example uses the try,except, else, and finally components.\n",
    "\n",
    "try:\n",
    "    pritn(\"test\")\n",
    "except NameError:\n",
    "    print('Variable pritn has a name error')\n",
    "else:\n",
    "    print(\"This code seems to be working\")\n",
    "finally:\n",
    "    print(\"Lets move on to the next assignment\")\n"
   ]
  }
 ],
 "metadata": {
  "kernelspec": {
   "display_name": "Python 3",
   "language": "python",
   "name": "python3"
  },
  "language_info": {
   "codemirror_mode": {
    "name": "ipython",
    "version": 3
   },
   "file_extension": ".py",
   "mimetype": "text/x-python",
   "name": "python",
   "nbconvert_exporter": "python",
   "pygments_lexer": "ipython3",
   "version": "3.12.3"
  }
 },
 "nbformat": 4,
 "nbformat_minor": 2
}

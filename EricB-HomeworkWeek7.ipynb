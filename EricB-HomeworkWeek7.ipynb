{
 "cells": [
  {
   "cell_type": "markdown",
   "metadata": {
    "vscode": {
     "languageId": "sql"
    }
   },
   "source": [
    "## Homework 7.1\n",
    "# #1 Using EVregistry, Write a query to select the ModelYear, Make, and Model off all of the vehicles in the registry.\n",
    "SELECT \n",
    "    ModelYear,\n",
    "    Make,\n",
    "    Model\n",
    "FROM EVRegistry;"
   ]
  },
  {
   "cell_type": "markdown",
   "metadata": {
    "vscode": {
     "languageId": "sql"
    }
   },
   "source": [
    "# 2 Using the EVRegistry table, Write a query that lists all of the unique types of EV's. your reult set should have one column, ElectricVehicleType.\n",
    "SELECT DISTINCT\n",
    "    ElectricVehicleType\n",
    "FROM EVRegistry;"
   ]
  },
  {
   "cell_type": "markdown",
   "metadata": {
    "vscode": {
     "languageId": "sql"
    }
   },
   "source": [
    "# 3 Using the EVRegistry, Write a query that shows all of the information on Battery Electric Vehicles (BEV) that are in the registry.\n",
    "SELECT  \n",
    "    *\n",
    "FROM EVRegistry;"
   ]
  },
  {
   "cell_type": "markdown",
   "metadata": {
    "vscode": {
     "languageId": "sql"
    }
   },
   "source": [
    "# 4 Using the EVRegistry, wirte a query that returns the Make and Model of all of the EV's that have a BaseMSRP between 20000 and 35000?\n",
    "SELECT \n",
    "    Make,\n",
    "    Model\n",
    "FROM EVRegistry\n",
    "WHERE BaseMSRP BETWEEN 20000 AND 35000;"
   ]
  },
  {
   "cell_type": "markdown",
   "metadata": {},
   "source": [
    "## Homework 7.2\n",
    "# 1 Using EVRegistry, write a query to find a record where the City attribute is NULL. Return all of the available columns.\n",
    "SELECT *\n",
    "FROM EVRegistry\n",
    "WHERE City IS NULL;"
   ]
  },
  {
   "cell_type": "markdown",
   "metadata": {},
   "source": [
    "# 2 Write a query to find the make, model, and ElectricVehicleType where the VIN number has that ends in '3E1EA1J'.\n",
    "SELECT \n",
    "\tMake, \n",
    "\tModel, \n",
    "\tElectricVehicleType\n",
    "FROM EVRegistry\n",
    "WHERE VIN LIKE '%3E1EA1J';"
   ]
  },
  {
   "cell_type": "markdown",
   "metadata": {},
   "source": [
    "# 3 Select the ModelYear, make, model, ElectricVehicleType, and range of the Tesla vehicles or cheverolet vehicles in the registry. Order the result set by Make and Model year in from newest to oldest.\n",
    "SELECT\n",
    "\tModelYear, \n",
    "\tMake, \n",
    "\tModel,\n",
    "\tElectricVehicleType,\n",
    "\tElectricRange\n",
    "FROM EVRegistry\n",
    "WHERE Make IN ('TESLA', 'CHEVROLET')\n",
    "ORDER BY Make, Model DESC;"
   ]
  },
  {
   "cell_type": "markdown",
   "metadata": {},
   "source": [
    "# 4 Using EVCharging, Write a query to find out how many many times those stations were used. Order them by the most used to the least used and limit the output to 5 records.\n",
    "SELECT\n",
    "\tstationId, \n",
    "\tCOUNT(*) AS 'Count'\n",
    "FROM EVCharging\n",
    "GROUP BY stationId\n",
    "ORDER BY COUNT DESC;"
   ]
  },
  {
   "cell_type": "markdown",
   "metadata": {},
   "source": [
    "# 5 Using EVCharging, For the folks who charged longer than 0.5 hours, show the min and max of the charging time for each user. Your output columns should be userid, minTime, and maxTime. Order this result set by the last two columns respectively.\n",
    "SELECT \n",
    "\tuserId,\n",
    "\tmin(chargeTimeMins) as 'minTime',\n",
    "\tmax(chargeTimeMins) as 'maxTime'\n",
    "FROM EVCharging \n",
    "WHERE chargeTimeMins > 0.5\n",
    "GROUP BY userId\n",
    "ORDER BY minTime, maxTime;"
   ]
  },
  {
   "cell_type": "markdown",
   "metadata": {},
   "source": [
    "## Homework 7.3\n",
    "# 1 Using EVCharging, Which day of the week has the highest average charging time? Round the answer to 2 decimal points.\n",
    "SELECT weekday, ROUND(AVG(chargeTimeHrs),2) AS 'avgTime'\n",
    "FROM EVCharging\n",
    "GROUP BY weekday\n",
    "ORDER BY avgTime DESC;"
   ]
  },
  {
   "cell_type": "markdown",
   "metadata": {},
   "source": [
    "# 2 Using, EV charging, Find the total power consumed from charging EV's by each User. Return the userId and name the calculated column, totalPower. Round the answer to 2 deciaml points and list the out put in highest to lowest order. Limit the order to the top 15 users.\n",
    "SELECT \n",
    "\tuserId,\n",
    "\tROUND(SUM(kwhTotal),2) as 'totalPower'\n",
    "FROM EVCharging\n",
    "GROUP BY userId\n",
    "ORDER BY totalPower DESC\n",
    "LIMIT 15;"
   ]
  },
  {
   "cell_type": "markdown",
   "metadata": {},
   "source": [
    "# 3 Using dimfacility and factCharge, write a query to find out which type of facility (GROUP BY) has the most amount of charging stations. Return type Facility and name the calculated column numStation. Order the result set from highest to lowest number of charging stations.\n",
    "SELECT \n",
    "\tdimFacility.typeFacility AS 'Facility',\n",
    "\tCOUNT(factCharge.stationID) AS 'numStation'\n",
    "FROM  dimFacility\n",
    "JOIN factCharge\n",
    "ON factCharge.facilityID = dimFacility.FacilityKey\n",
    "GROUP BY Facility\n",
    "ORDER BY numStation DESC;"
   ]
  },
  {
   "cell_type": "markdown",
   "metadata": {},
   "source": [
    "# 4 In your own words, Briefly explain Primary Keys and Foreign Keys.\n",
    "## ANSWER: Primary keys refer to a single column in table that contains unique characters. These unique characters can be used as identification of individual rows on that table. Foreign Keys are Primary Keys that are reused in other tables and can be used to refer back to where the Primary key is used. "
   ]
  },
  {
   "cell_type": "markdown",
   "metadata": {},
   "source": [
    "# 5 Using EV Charging, For the folks who charged longer than one hour, show the min and max of the charging time for each user. Your output columns should be userid, minTime, and maxTime. Order this result set by the last two columns respectively. HINT: USE HAVING\n",
    "SELECT \n",
    "\tuserId,\n",
    "\tMIN(chargeTimeHrs) as 'minTime',\n",
    "\tMAX(chargeTimeHrs) as 'maxTime'\n",
    "FROM EVCharging\n",
    "GROUP BY userId\n",
    "HAVING minTime > 1.0\n",
    "ORDER BY 2;"
   ]
  }
 ],
 "metadata": {
  "kernelspec": {
   "display_name": "Python 3",
   "language": "python",
   "name": "python3"
  },
  "language_info": {
   "codemirror_mode": {
    "name": "ipython",
    "version": 3
   },
   "file_extension": ".py",
   "mimetype": "text/x-python",
   "name": "python",
   "nbconvert_exporter": "python",
   "pygments_lexer": "ipython3",
   "version": "3.12.3"
  }
 },
 "nbformat": 4,
 "nbformat_minor": 2
}
